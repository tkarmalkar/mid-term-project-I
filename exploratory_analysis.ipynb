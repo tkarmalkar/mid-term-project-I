{
 "cells": [
  {
   "cell_type": "markdown",
   "metadata": {},
   "source": [
    "## Exploratory Data Analysis\n",
    "\n",
    "Use this notebook to get familiar with the datasets we have. There is 10 questions we need to answer during the EDA.\n",
    "\n",
    "\n",
    "We shouldn't limit our EDA to these 10 questions. Let's be creative :)."
   ]
  },
  {
   "cell_type": "code",
   "execution_count": 72,
   "metadata": {},
   "outputs": [],
   "source": [
    "# Before we start EDA, let's connect to the remote database.\n",
    "#Import python library\n",
    "import psycopg2\n",
    "import pandas as pd\n",
    "import seaborn as sns\n",
    "import random\n",
    "import matplotlib.pyplot as plt\n",
    "from scipy.stats import shapiro\n",
    "import requests\n"
   ]
  },
  {
   "cell_type": "code",
   "execution_count": 3,
   "metadata": {},
   "outputs": [],
   "source": [
    "# Since we will be extracting the data from the tables multiple times, instead of writing the same code multiple times, I created a function.\n",
    "def query_table_to_csv(tablename, db_host, db_name, db_user, db_password, output_path, row_limit=None):\n",
    "    # create a connection object\n",
    "    conn = psycopg2.connect(\n",
    "        host=db_host,\n",
    "        database=db_name,\n",
    "        user=db_user,\n",
    "        password=db_password\n",
    "    )\n",
    "\n",
    "    # create a cursor object\n",
    "    cursor = conn.cursor()\n",
    "\n",
    "    \n",
    "    # execute a query to select rows from the specified table\n",
    "    query = f\"SELECT * FROM {tablename} TABLESAMPLE SYSTEM (10)\"\n",
    "    if row_limit:\n",
    "        query += f\" LIMIT {row_limit}\"\n",
    "    cursor.execute(query)\n",
    "\n",
    "    print(query)\n",
    "\n",
    "    # fetch the results\n",
    "    results = cursor.fetchall()\n",
    "\n",
    "    # create a DataFrame from the results\n",
    "    df = pd.DataFrame(results, columns=[desc[0] for desc in cursor.description])\n",
    "\n",
    "    # close the cursor and connection\n",
    "    cursor.close()\n",
    "    conn.close()\n",
    "\n",
    "    # save the DataFrame to a CSV file\n",
    "    df.to_csv(output_path, index=False)\n",
    "\n",
    "    # print a message to confirm success\n",
    "    print(f\"Results saved to {output_path}\")"
   ]
  },
  {
   "cell_type": "code",
   "execution_count": 18,
   "metadata": {},
   "outputs": [],
   "source": [
    "## Total number of rows = 15,927,485\n",
    "# set the database connection parameters\n",
    "db_host = \"lhl-data-bootcamp.crzjul5qln0e.ca-central-1.rds.amazonaws.com\"\n",
    "db_name = \"mid_term_project\"    \n",
    "db_user = \"lhl_student\"\n",
    "db_password = \"lhl_student\""
   ]
  },
  {
   "cell_type": "code",
   "execution_count": 80,
   "metadata": {},
   "outputs": [
    {
     "name": "stdout",
     "output_type": "stream",
     "text": [
      "SELECT * FROM flights TABLESAMPLE SYSTEM (10) LIMIT 100\n",
      "Results saved to c:/Taslim/LHL/Mid_term Project/flights1.csv\n"
     ]
    }
   ],
   "source": [
    "# Importing Flights data\n",
    "query_table_to_csv(\n",
    "    tablename=\"flights\",\n",
    "    db_host=db_host,\n",
    "    db_name=db_name,\n",
    "    db_user=db_user,\n",
    "    db_password=db_password,\n",
    "    output_path=\"c:/Taslim/LHL/Mid_term Project/flights.csv\",\n",
    "    row_limit=10000000\n",
    ")"
   ]
  },
  {
   "cell_type": "code",
   "execution_count": 58,
   "metadata": {},
   "outputs": [
    {
     "name": "stderr",
     "output_type": "stream",
     "text": [
      "C:\\Users\\niles\\AppData\\Local\\Temp\\ipykernel_7228\\3685631337.py:2: DtypeWarning: Columns (25) have mixed types. Specify dtype option on import or set low_memory=False.\n",
      "  flights_df = pd.read_csv(\"c:/Taslim/LHL/Mid_term Project/flights.csv\")\n"
     ]
    },
    {
     "data": {
      "text/html": [
       "<div>\n",
       "<style scoped>\n",
       "    .dataframe tbody tr th:only-of-type {\n",
       "        vertical-align: middle;\n",
       "    }\n",
       "\n",
       "    .dataframe tbody tr th {\n",
       "        vertical-align: top;\n",
       "    }\n",
       "\n",
       "    .dataframe thead th {\n",
       "        text-align: right;\n",
       "    }\n",
       "</style>\n",
       "<table border=\"1\" class=\"dataframe\">\n",
       "  <thead>\n",
       "    <tr style=\"text-align: right;\">\n",
       "      <th></th>\n",
       "      <th>fl_date</th>\n",
       "      <th>mkt_unique_carrier</th>\n",
       "      <th>branded_code_share</th>\n",
       "      <th>mkt_carrier</th>\n",
       "      <th>mkt_carrier_fl_num</th>\n",
       "      <th>op_unique_carrier</th>\n",
       "      <th>tail_num</th>\n",
       "      <th>op_carrier_fl_num</th>\n",
       "      <th>origin_airport_id</th>\n",
       "      <th>origin</th>\n",
       "      <th>...</th>\n",
       "      <th>distance</th>\n",
       "      <th>carrier_delay</th>\n",
       "      <th>weather_delay</th>\n",
       "      <th>nas_delay</th>\n",
       "      <th>security_delay</th>\n",
       "      <th>late_aircraft_delay</th>\n",
       "      <th>first_dep_time</th>\n",
       "      <th>total_add_gtime</th>\n",
       "      <th>longest_add_gtime</th>\n",
       "      <th>no_name</th>\n",
       "    </tr>\n",
       "  </thead>\n",
       "  <tbody>\n",
       "    <tr>\n",
       "      <th>0</th>\n",
       "      <td>2018-01-01</td>\n",
       "      <td>B6</td>\n",
       "      <td>B6</td>\n",
       "      <td>B6</td>\n",
       "      <td>469</td>\n",
       "      <td>B6</td>\n",
       "      <td>N645JB</td>\n",
       "      <td>469</td>\n",
       "      <td>10721</td>\n",
       "      <td>BOS</td>\n",
       "      <td>...</td>\n",
       "      <td>1237.0</td>\n",
       "      <td>17.0</td>\n",
       "      <td>0.0</td>\n",
       "      <td>6.0</td>\n",
       "      <td>0.0</td>\n",
       "      <td>0.0</td>\n",
       "      <td>NaN</td>\n",
       "      <td>NaN</td>\n",
       "      <td>NaN</td>\n",
       "      <td>NaN</td>\n",
       "    </tr>\n",
       "    <tr>\n",
       "      <th>1</th>\n",
       "      <td>2018-01-01</td>\n",
       "      <td>B6</td>\n",
       "      <td>B6</td>\n",
       "      <td>B6</td>\n",
       "      <td>470</td>\n",
       "      <td>B6</td>\n",
       "      <td>N589JB</td>\n",
       "      <td>470</td>\n",
       "      <td>11697</td>\n",
       "      <td>FLL</td>\n",
       "      <td>...</td>\n",
       "      <td>1237.0</td>\n",
       "      <td>NaN</td>\n",
       "      <td>NaN</td>\n",
       "      <td>NaN</td>\n",
       "      <td>NaN</td>\n",
       "      <td>NaN</td>\n",
       "      <td>NaN</td>\n",
       "      <td>NaN</td>\n",
       "      <td>NaN</td>\n",
       "      <td>NaN</td>\n",
       "    </tr>\n",
       "    <tr>\n",
       "      <th>2</th>\n",
       "      <td>2018-01-01</td>\n",
       "      <td>B6</td>\n",
       "      <td>B6</td>\n",
       "      <td>B6</td>\n",
       "      <td>471</td>\n",
       "      <td>B6</td>\n",
       "      <td>N827JB</td>\n",
       "      <td>471</td>\n",
       "      <td>10721</td>\n",
       "      <td>BOS</td>\n",
       "      <td>...</td>\n",
       "      <td>2689.0</td>\n",
       "      <td>NaN</td>\n",
       "      <td>NaN</td>\n",
       "      <td>NaN</td>\n",
       "      <td>NaN</td>\n",
       "      <td>NaN</td>\n",
       "      <td>NaN</td>\n",
       "      <td>NaN</td>\n",
       "      <td>NaN</td>\n",
       "      <td>NaN</td>\n",
       "    </tr>\n",
       "    <tr>\n",
       "      <th>3</th>\n",
       "      <td>2018-01-01</td>\n",
       "      <td>B6</td>\n",
       "      <td>B6</td>\n",
       "      <td>B6</td>\n",
       "      <td>472</td>\n",
       "      <td>B6</td>\n",
       "      <td>N827JB</td>\n",
       "      <td>472</td>\n",
       "      <td>14831</td>\n",
       "      <td>SJC</td>\n",
       "      <td>...</td>\n",
       "      <td>2689.0</td>\n",
       "      <td>NaN</td>\n",
       "      <td>NaN</td>\n",
       "      <td>NaN</td>\n",
       "      <td>NaN</td>\n",
       "      <td>NaN</td>\n",
       "      <td>NaN</td>\n",
       "      <td>NaN</td>\n",
       "      <td>NaN</td>\n",
       "      <td>NaN</td>\n",
       "    </tr>\n",
       "    <tr>\n",
       "      <th>4</th>\n",
       "      <td>2018-01-01</td>\n",
       "      <td>B6</td>\n",
       "      <td>B6</td>\n",
       "      <td>B6</td>\n",
       "      <td>475</td>\n",
       "      <td>B6</td>\n",
       "      <td>N655JB</td>\n",
       "      <td>475</td>\n",
       "      <td>14307</td>\n",
       "      <td>PVD</td>\n",
       "      <td>...</td>\n",
       "      <td>1072.0</td>\n",
       "      <td>NaN</td>\n",
       "      <td>NaN</td>\n",
       "      <td>NaN</td>\n",
       "      <td>NaN</td>\n",
       "      <td>NaN</td>\n",
       "      <td>NaN</td>\n",
       "      <td>NaN</td>\n",
       "      <td>NaN</td>\n",
       "      <td>NaN</td>\n",
       "    </tr>\n",
       "  </tbody>\n",
       "</table>\n",
       "<p>5 rows × 42 columns</p>\n",
       "</div>"
      ],
      "text/plain": [
       "      fl_date mkt_unique_carrier branded_code_share mkt_carrier  \\\n",
       "0  2018-01-01                 B6                 B6          B6   \n",
       "1  2018-01-01                 B6                 B6          B6   \n",
       "2  2018-01-01                 B6                 B6          B6   \n",
       "3  2018-01-01                 B6                 B6          B6   \n",
       "4  2018-01-01                 B6                 B6          B6   \n",
       "\n",
       "   mkt_carrier_fl_num op_unique_carrier tail_num  op_carrier_fl_num  \\\n",
       "0                 469                B6   N645JB                469   \n",
       "1                 470                B6   N589JB                470   \n",
       "2                 471                B6   N827JB                471   \n",
       "3                 472                B6   N827JB                472   \n",
       "4                 475                B6   N655JB                475   \n",
       "\n",
       "   origin_airport_id origin  ... distance  carrier_delay weather_delay  \\\n",
       "0              10721    BOS  ...   1237.0           17.0           0.0   \n",
       "1              11697    FLL  ...   1237.0            NaN           NaN   \n",
       "2              10721    BOS  ...   2689.0            NaN           NaN   \n",
       "3              14831    SJC  ...   2689.0            NaN           NaN   \n",
       "4              14307    PVD  ...   1072.0            NaN           NaN   \n",
       "\n",
       "  nas_delay  security_delay  late_aircraft_delay  first_dep_time  \\\n",
       "0       6.0             0.0                  0.0             NaN   \n",
       "1       NaN             NaN                  NaN             NaN   \n",
       "2       NaN             NaN                  NaN             NaN   \n",
       "3       NaN             NaN                  NaN             NaN   \n",
       "4       NaN             NaN                  NaN             NaN   \n",
       "\n",
       "   total_add_gtime  longest_add_gtime  no_name  \n",
       "0              NaN                NaN      NaN  \n",
       "1              NaN                NaN      NaN  \n",
       "2              NaN                NaN      NaN  \n",
       "3              NaN                NaN      NaN  \n",
       "4              NaN                NaN      NaN  \n",
       "\n",
       "[5 rows x 42 columns]"
      ]
     },
     "execution_count": 58,
     "metadata": {},
     "output_type": "execute_result"
    }
   ],
   "source": [
    "# Importing the saved CSV file into dataframe\n",
    "flights_df = pd.read_csv(\"c:/Taslim/LHL/Mid_term Project/flights.csv\")\n",
    "\n",
    "# print the first few rows of the DataFrame\n",
    "flights_df.head()"
   ]
  },
  {
   "cell_type": "code",
   "execution_count": 78,
   "metadata": {},
   "outputs": [
    {
     "name": "stdout",
     "output_type": "stream",
     "text": [
      "SELECT * FROM passengers TABLESAMPLE SYSTEM (10) LIMIT 100\n",
      "Results saved to c:/Taslim/LHL/Mid_term Project/passengers.csv\n"
     ]
    }
   ],
   "source": [
    "# Importing Passenger data\n",
    "query_table_to_csv(\n",
    "    tablename=\"passengers\",\n",
    "    db_host=db_host,\n",
    "    db_name=db_name,\n",
    "    db_user=db_user,\n",
    "    db_password=db_password,\n",
    "    output_path=\"c:/Taslim/LHL/Mid_term Project/passengers.csv\",\n",
    "    row_limit=100\n",
    ")"
   ]
  },
  {
   "cell_type": "code",
   "execution_count": 79,
   "metadata": {},
   "outputs": [
    {
     "data": {
      "text/html": [
       "<div>\n",
       "<style scoped>\n",
       "    .dataframe tbody tr th:only-of-type {\n",
       "        vertical-align: middle;\n",
       "    }\n",
       "\n",
       "    .dataframe tbody tr th {\n",
       "        vertical-align: top;\n",
       "    }\n",
       "\n",
       "    .dataframe thead th {\n",
       "        text-align: right;\n",
       "    }\n",
       "</style>\n",
       "<table border=\"1\" class=\"dataframe\">\n",
       "  <thead>\n",
       "    <tr style=\"text-align: right;\">\n",
       "      <th></th>\n",
       "      <th>departures_scheduled</th>\n",
       "      <th>departures_performed</th>\n",
       "      <th>payload</th>\n",
       "      <th>seats</th>\n",
       "      <th>passengers</th>\n",
       "      <th>freight</th>\n",
       "      <th>mail</th>\n",
       "      <th>distance</th>\n",
       "      <th>ramp_to_ramp</th>\n",
       "      <th>air_time</th>\n",
       "      <th>...</th>\n",
       "      <th>dest_country</th>\n",
       "      <th>dest_country_name</th>\n",
       "      <th>aircraft_group</th>\n",
       "      <th>aircraft_type</th>\n",
       "      <th>aircraft_config</th>\n",
       "      <th>year</th>\n",
       "      <th>month</th>\n",
       "      <th>distance_group</th>\n",
       "      <th>class</th>\n",
       "      <th>data_source</th>\n",
       "    </tr>\n",
       "  </thead>\n",
       "  <tbody>\n",
       "    <tr>\n",
       "      <th>0</th>\n",
       "      <td>0.0</td>\n",
       "      <td>3.0</td>\n",
       "      <td>64500.0</td>\n",
       "      <td>0.0</td>\n",
       "      <td>0.0</td>\n",
       "      <td>10537.0</td>\n",
       "      <td>0.0</td>\n",
       "      <td>468.0</td>\n",
       "      <td>265.0</td>\n",
       "      <td>202.0</td>\n",
       "      <td>...</td>\n",
       "      <td>MX</td>\n",
       "      <td>Mexico</td>\n",
       "      <td>6</td>\n",
       "      <td>635</td>\n",
       "      <td>2</td>\n",
       "      <td>2019</td>\n",
       "      <td>6</td>\n",
       "      <td>1</td>\n",
       "      <td>P</td>\n",
       "      <td>IU</td>\n",
       "    </tr>\n",
       "    <tr>\n",
       "      <th>1</th>\n",
       "      <td>0.0</td>\n",
       "      <td>1.0</td>\n",
       "      <td>30000.0</td>\n",
       "      <td>0.0</td>\n",
       "      <td>0.0</td>\n",
       "      <td>4560.0</td>\n",
       "      <td>0.0</td>\n",
       "      <td>468.0</td>\n",
       "      <td>90.0</td>\n",
       "      <td>75.0</td>\n",
       "      <td>...</td>\n",
       "      <td>MX</td>\n",
       "      <td>Mexico</td>\n",
       "      <td>6</td>\n",
       "      <td>640</td>\n",
       "      <td>2</td>\n",
       "      <td>2019</td>\n",
       "      <td>6</td>\n",
       "      <td>1</td>\n",
       "      <td>P</td>\n",
       "      <td>IU</td>\n",
       "    </tr>\n",
       "    <tr>\n",
       "      <th>2</th>\n",
       "      <td>0.0</td>\n",
       "      <td>1.0</td>\n",
       "      <td>60000.0</td>\n",
       "      <td>0.0</td>\n",
       "      <td>0.0</td>\n",
       "      <td>5206.0</td>\n",
       "      <td>0.0</td>\n",
       "      <td>468.0</td>\n",
       "      <td>85.0</td>\n",
       "      <td>65.0</td>\n",
       "      <td>...</td>\n",
       "      <td>MX</td>\n",
       "      <td>Mexico</td>\n",
       "      <td>7</td>\n",
       "      <td>715</td>\n",
       "      <td>2</td>\n",
       "      <td>2019</td>\n",
       "      <td>6</td>\n",
       "      <td>1</td>\n",
       "      <td>P</td>\n",
       "      <td>IU</td>\n",
       "    </tr>\n",
       "    <tr>\n",
       "      <th>3</th>\n",
       "      <td>0.0</td>\n",
       "      <td>1.0</td>\n",
       "      <td>21500.0</td>\n",
       "      <td>0.0</td>\n",
       "      <td>0.0</td>\n",
       "      <td>4504.0</td>\n",
       "      <td>0.0</td>\n",
       "      <td>405.0</td>\n",
       "      <td>93.0</td>\n",
       "      <td>68.0</td>\n",
       "      <td>...</td>\n",
       "      <td>MX</td>\n",
       "      <td>Mexico</td>\n",
       "      <td>6</td>\n",
       "      <td>635</td>\n",
       "      <td>2</td>\n",
       "      <td>2019</td>\n",
       "      <td>6</td>\n",
       "      <td>1</td>\n",
       "      <td>P</td>\n",
       "      <td>IU</td>\n",
       "    </tr>\n",
       "    <tr>\n",
       "      <th>4</th>\n",
       "      <td>0.0</td>\n",
       "      <td>1.0</td>\n",
       "      <td>30000.0</td>\n",
       "      <td>0.0</td>\n",
       "      <td>0.0</td>\n",
       "      <td>0.0</td>\n",
       "      <td>0.0</td>\n",
       "      <td>128.0</td>\n",
       "      <td>55.0</td>\n",
       "      <td>40.0</td>\n",
       "      <td>...</td>\n",
       "      <td>MX</td>\n",
       "      <td>Mexico</td>\n",
       "      <td>6</td>\n",
       "      <td>640</td>\n",
       "      <td>2</td>\n",
       "      <td>2019</td>\n",
       "      <td>6</td>\n",
       "      <td>1</td>\n",
       "      <td>P</td>\n",
       "      <td>IU</td>\n",
       "    </tr>\n",
       "  </tbody>\n",
       "</table>\n",
       "<p>5 rows × 38 columns</p>\n",
       "</div>"
      ],
      "text/plain": [
       "   departures_scheduled  departures_performed  payload  seats  passengers  \\\n",
       "0                   0.0                   3.0  64500.0    0.0         0.0   \n",
       "1                   0.0                   1.0  30000.0    0.0         0.0   \n",
       "2                   0.0                   1.0  60000.0    0.0         0.0   \n",
       "3                   0.0                   1.0  21500.0    0.0         0.0   \n",
       "4                   0.0                   1.0  30000.0    0.0         0.0   \n",
       "\n",
       "   freight  mail  distance  ramp_to_ramp  air_time  ... dest_country  \\\n",
       "0  10537.0   0.0     468.0         265.0     202.0  ...           MX   \n",
       "1   4560.0   0.0     468.0          90.0      75.0  ...           MX   \n",
       "2   5206.0   0.0     468.0          85.0      65.0  ...           MX   \n",
       "3   4504.0   0.0     405.0          93.0      68.0  ...           MX   \n",
       "4      0.0   0.0     128.0          55.0      40.0  ...           MX   \n",
       "\n",
       "   dest_country_name aircraft_group aircraft_type aircraft_config  year  \\\n",
       "0             Mexico              6           635               2  2019   \n",
       "1             Mexico              6           640               2  2019   \n",
       "2             Mexico              7           715               2  2019   \n",
       "3             Mexico              6           635               2  2019   \n",
       "4             Mexico              6           640               2  2019   \n",
       "\n",
       "   month  distance_group  class  data_source  \n",
       "0      6               1      P           IU  \n",
       "1      6               1      P           IU  \n",
       "2      6               1      P           IU  \n",
       "3      6               1      P           IU  \n",
       "4      6               1      P           IU  \n",
       "\n",
       "[5 rows x 38 columns]"
      ]
     },
     "execution_count": 79,
     "metadata": {},
     "output_type": "execute_result"
    }
   ],
   "source": [
    "# Importing the saved CSV file into dataframe\n",
    "passengers_df = pd.read_csv(\"c:/Taslim/LHL/Mid_term Project/passengers.csv\")\n",
    "\n",
    "# print the first few rows of the DataFrame\n",
    "passengers_df.head()"
   ]
  },
  {
   "cell_type": "markdown",
   "metadata": {},
   "source": [
    "#### **Task 1**: Test the hypothesis that the delay is from Normal distribution. and that **mean** of the delay is 0. Be careful about the outliers."
   ]
  },
  {
   "cell_type": "code",
   "execution_count": 5,
   "metadata": {},
   "outputs": [
    {
     "data": {
      "image/png": "[encoded data removed]",
      "text/plain": [
       "<Figure size 640x480 with 1 Axes>"
      ]
     },
     "metadata": {},
     "output_type": "display_data"
    }
   ],
   "source": [
    "# plot a histogram of the dep_delay column\n",
    "plt.hist(flights_df['dep_delay'], bins=50)\n",
    "plt.xlabel('Departure Delay (minutes)')\n",
    "plt.ylabel('Count')\n",
    "plt.title('Histogram of Departure Delay')\n",
    "plt.show()"
   ]
  },
  {
   "cell_type": "code",
   "execution_count": 8,
   "metadata": {},
   "outputs": [
    {
     "data": {
      "image/png": "[encoded data removed]",
      "text/plain": [
       "<Figure size 640x480 with 1 Axes>"
      ]
     },
     "metadata": {},
     "output_type": "display_data"
    }
   ],
   "source": [
    "# Since we are insterested only in delayed flights, select only the rows where dep_delay is greater than or equal to zero. \n",
    "df = flights_df[flights_df['dep_delay'] >= 0]\n",
    "\n",
    "# plot a histogram of the dep_delay column\n",
    "plt.hist(df['dep_delay'], bins=500)\n",
    "plt.xlabel('Departure Delay (minutes)')\n",
    "plt.ylabel('Count')\n",
    "plt.title('Histogram of Departure Delay')\n",
    "plt.show()"
   ]
  },
  {
   "cell_type": "code",
   "execution_count": 9,
   "metadata": {},
   "outputs": [
    {
     "name": "stdout",
     "output_type": "stream",
     "text": [
      "Shapiro-Wilk test statistic: 0.4788\n",
      "p-value: 0.0000\n",
      "The null hypothesis of normality is rejected.\n"
     ]
    },
    {
     "name": "stderr",
     "output_type": "stream",
     "text": [
      "C:\\Users\\niles\\AppData\\Local\\Packages\\PythonSoftwareFoundation.Python.3.10_qbz5n2kfra8p0\\LocalCache\\local-packages\\Python310\\site-packages\\scipy\\stats\\_morestats.py:1816: UserWarning: p-value may not be accurate for N > 5000.\n",
      "  warnings.warn(\"p-value may not be accurate for N > 5000.\")\n"
     ]
    }
   ],
   "source": [
    "# perform the Shapiro-Wilk test on the flight_delay column\n",
    "stat, p = shapiro(df['dep_delay'])\n",
    "\n",
    "# print the test statistic and p-value\n",
    "print(f\"Shapiro-Wilk test statistic: {stat:.4f}\")\n",
    "print(f\"p-value: {p:.4f}\")\n",
    "\n",
    "# interpret the results\n",
    "alpha = 0.05\n",
    "if p > alpha:\n",
    "    print(\"The null hypothesis of normality cannot be rejected.\")\n",
    "else:\n",
    "    print(\"The null hypothesis of normality is rejected.\")"
   ]
  },
  {
   "cell_type": "markdown",
   "metadata": {},
   "source": [
    "#### **Task 2**: Is average/median monthly delay different during the year? If yes, which are months with the biggest delays and what could be the reason?"
   ]
  },
  {
   "cell_type": "code",
   "execution_count": 10,
   "metadata": {},
   "outputs": [
    {
     "data": {
      "image/png": "[encoded data removed]",
      "text/plain": [
       "<Figure size 640x480 with 1 Axes>"
      ]
     },
     "metadata": {},
     "output_type": "display_data"
    }
   ],
   "source": [
    "# convert the fl_date column to a datetime object\n",
    "flights_df['fl_date'] = pd.to_datetime(flights_df['fl_date'])\n",
    "\n",
    "# group the DataFrame by month and calculate the mean dep_delay for each month\n",
    "monthly_mean_delay = df.groupby(flights_df['fl_date'].dt.month)['dep_delay'].mean()\n",
    "\n",
    "#print(monthly_mean_delay)\n",
    "\n",
    "# plot the monthly mean delay as a line chart\n",
    "monthly_mean_delay.plot(kind='line')\n",
    "\n",
    "# add labels and title to the plot\n",
    "plt.xlabel('Month')\n",
    "plt.ylabel('Mean delay (minutes)')\n",
    "plt.title('Mean Flight Delay by Month')\n",
    "plt.show()"
   ]
  },
  {
   "cell_type": "code",
   "execution_count": null,
   "metadata": {},
   "outputs": [],
   "source": [
    "#It seems the summer months have higher delays followed by winter ones.\n",
    "#The probable reasons for summer month can be peak traffic season. More people travel in summer months are compared to other seasons, which can be the contribuitor for delays.\n",
    "#The probable reason for winter months can be weather. During winter seasons, NY has snowy weather and it can potentially add to delays."
   ]
  },
  {
   "cell_type": "markdown",
   "metadata": {},
   "source": [
    "#### **Task 3**: Does the weather affect the delay? \n",
    "Use the API to pull the weather information for flights. There is no need to get weather for ALL flights. We can choose the right representative sample. Let's focus on four weather types:\n",
    "- sunny\n",
    "- cloudy\n",
    "- rainy\n",
    "- snow.\n",
    "Test the hypothesis that these 4 delays are from the same distribution. If they are not, which ones are significantly different?"
   ]
  },
  {
   "cell_type": "code",
   "execution_count": 16,
   "metadata": {},
   "outputs": [
    {
     "name": "stdout",
     "output_type": "stream",
     "text": [
      "<Response [200]>\n"
     ]
    }
   ],
   "source": [
    "url = \"https://archive-api.open-meteo.com/v1/archive?latitude=40.71&longitude=-74.01&start_date=2023-01-13&end_date=2023-02-15\"\n",
    "\n",
    "params = {\n",
    "    \"latitude\": \"40.71\",\n",
    "    \"longitude\": \"-74.01\",\n",
    "    \"start_date\": \"2023-02-13\",\n",
    "    \"end_date\": \"2023-02-15\",\n",
    "    \"daily\": \"weathercode,temperature_2m_max,temperature_2m_min,sunrise,sunset,precipitation_sum,rain_sum,snowfall_sum,precipitation_hours,windspeed_10m_max,windgusts_10m_max\",\n",
    "    \"timezone\": \"America/New_York\"\n",
    "}\n",
    "\n",
    "response = requests.get(url)\n",
    "print(response)"
   ]
  },
  {
   "cell_type": "markdown",
   "metadata": {},
   "source": [
    "#### **Task 4**: How taxi times changing during the day? Does higher traffic lead to bigger taxi times?"
   ]
  },
  {
   "cell_type": "code",
   "execution_count": 82,
   "metadata": {},
   "outputs": [
    {
     "data": {
      "text/html": [
       "<div>\n",
       "<style scoped>\n",
       "    .dataframe tbody tr th:only-of-type {\n",
       "        vertical-align: middle;\n",
       "    }\n",
       "\n",
       "    .dataframe tbody tr th {\n",
       "        vertical-align: top;\n",
       "    }\n",
       "\n",
       "    .dataframe thead th {\n",
       "        text-align: right;\n",
       "    }\n",
       "</style>\n",
       "<table border=\"1\" class=\"dataframe\">\n",
       "  <thead>\n",
       "    <tr style=\"text-align: right;\">\n",
       "      <th></th>\n",
       "      <th>fl_date</th>\n",
       "      <th>mkt_unique_carrier</th>\n",
       "      <th>branded_code_share</th>\n",
       "      <th>mkt_carrier</th>\n",
       "      <th>mkt_carrier_fl_num</th>\n",
       "      <th>op_unique_carrier</th>\n",
       "      <th>tail_num</th>\n",
       "      <th>op_carrier_fl_num</th>\n",
       "      <th>origin_airport_id</th>\n",
       "      <th>origin</th>\n",
       "      <th>...</th>\n",
       "      <th>carrier_delay</th>\n",
       "      <th>weather_delay</th>\n",
       "      <th>nas_delay</th>\n",
       "      <th>security_delay</th>\n",
       "      <th>late_aircraft_delay</th>\n",
       "      <th>first_dep_time</th>\n",
       "      <th>total_add_gtime</th>\n",
       "      <th>longest_add_gtime</th>\n",
       "      <th>no_name</th>\n",
       "      <th>hour</th>\n",
       "    </tr>\n",
       "  </thead>\n",
       "  <tbody>\n",
       "    <tr>\n",
       "      <th>0</th>\n",
       "      <td>2018-01-01</td>\n",
       "      <td>B6</td>\n",
       "      <td>B6</td>\n",
       "      <td>B6</td>\n",
       "      <td>469</td>\n",
       "      <td>B6</td>\n",
       "      <td>N645JB</td>\n",
       "      <td>469</td>\n",
       "      <td>10721</td>\n",
       "      <td>BOS</td>\n",
       "      <td>...</td>\n",
       "      <td>17.0</td>\n",
       "      <td>0.0</td>\n",
       "      <td>6.0</td>\n",
       "      <td>0.0</td>\n",
       "      <td>0.0</td>\n",
       "      <td>NaN</td>\n",
       "      <td>NaN</td>\n",
       "      <td>NaN</td>\n",
       "      <td>NaN</td>\n",
       "      <td>00</td>\n",
       "    </tr>\n",
       "    <tr>\n",
       "      <th>1</th>\n",
       "      <td>2018-01-01</td>\n",
       "      <td>B6</td>\n",
       "      <td>B6</td>\n",
       "      <td>B6</td>\n",
       "      <td>470</td>\n",
       "      <td>B6</td>\n",
       "      <td>N589JB</td>\n",
       "      <td>470</td>\n",
       "      <td>11697</td>\n",
       "      <td>FLL</td>\n",
       "      <td>...</td>\n",
       "      <td>NaN</td>\n",
       "      <td>NaN</td>\n",
       "      <td>NaN</td>\n",
       "      <td>NaN</td>\n",
       "      <td>NaN</td>\n",
       "      <td>NaN</td>\n",
       "      <td>NaN</td>\n",
       "      <td>NaN</td>\n",
       "      <td>NaN</td>\n",
       "      <td>00</td>\n",
       "    </tr>\n",
       "    <tr>\n",
       "      <th>2</th>\n",
       "      <td>2018-01-01</td>\n",
       "      <td>B6</td>\n",
       "      <td>B6</td>\n",
       "      <td>B6</td>\n",
       "      <td>471</td>\n",
       "      <td>B6</td>\n",
       "      <td>N827JB</td>\n",
       "      <td>471</td>\n",
       "      <td>10721</td>\n",
       "      <td>BOS</td>\n",
       "      <td>...</td>\n",
       "      <td>NaN</td>\n",
       "      <td>NaN</td>\n",
       "      <td>NaN</td>\n",
       "      <td>NaN</td>\n",
       "      <td>NaN</td>\n",
       "      <td>NaN</td>\n",
       "      <td>NaN</td>\n",
       "      <td>NaN</td>\n",
       "      <td>NaN</td>\n",
       "      <td>00</td>\n",
       "    </tr>\n",
       "    <tr>\n",
       "      <th>3</th>\n",
       "      <td>2018-01-01</td>\n",
       "      <td>B6</td>\n",
       "      <td>B6</td>\n",
       "      <td>B6</td>\n",
       "      <td>472</td>\n",
       "      <td>B6</td>\n",
       "      <td>N827JB</td>\n",
       "      <td>472</td>\n",
       "      <td>14831</td>\n",
       "      <td>SJC</td>\n",
       "      <td>...</td>\n",
       "      <td>NaN</td>\n",
       "      <td>NaN</td>\n",
       "      <td>NaN</td>\n",
       "      <td>NaN</td>\n",
       "      <td>NaN</td>\n",
       "      <td>NaN</td>\n",
       "      <td>NaN</td>\n",
       "      <td>NaN</td>\n",
       "      <td>NaN</td>\n",
       "      <td>00</td>\n",
       "    </tr>\n",
       "    <tr>\n",
       "      <th>4</th>\n",
       "      <td>2018-01-01</td>\n",
       "      <td>B6</td>\n",
       "      <td>B6</td>\n",
       "      <td>B6</td>\n",
       "      <td>475</td>\n",
       "      <td>B6</td>\n",
       "      <td>N655JB</td>\n",
       "      <td>475</td>\n",
       "      <td>14307</td>\n",
       "      <td>PVD</td>\n",
       "      <td>...</td>\n",
       "      <td>NaN</td>\n",
       "      <td>NaN</td>\n",
       "      <td>NaN</td>\n",
       "      <td>NaN</td>\n",
       "      <td>NaN</td>\n",
       "      <td>NaN</td>\n",
       "      <td>NaN</td>\n",
       "      <td>NaN</td>\n",
       "      <td>NaN</td>\n",
       "      <td>00</td>\n",
       "    </tr>\n",
       "  </tbody>\n",
       "</table>\n",
       "<p>5 rows × 43 columns</p>\n",
       "</div>"
      ],
      "text/plain": [
       "      fl_date mkt_unique_carrier branded_code_share mkt_carrier  \\\n",
       "0  2018-01-01                 B6                 B6          B6   \n",
       "1  2018-01-01                 B6                 B6          B6   \n",
       "2  2018-01-01                 B6                 B6          B6   \n",
       "3  2018-01-01                 B6                 B6          B6   \n",
       "4  2018-01-01                 B6                 B6          B6   \n",
       "\n",
       "   mkt_carrier_fl_num op_unique_carrier tail_num  op_carrier_fl_num  \\\n",
       "0                 469                B6   N645JB                469   \n",
       "1                 470                B6   N589JB                470   \n",
       "2                 471                B6   N827JB                471   \n",
       "3                 472                B6   N827JB                472   \n",
       "4                 475                B6   N655JB                475   \n",
       "\n",
       "   origin_airport_id origin  ... carrier_delay  weather_delay nas_delay  \\\n",
       "0              10721    BOS  ...          17.0            0.0       6.0   \n",
       "1              11697    FLL  ...           NaN            NaN       NaN   \n",
       "2              10721    BOS  ...           NaN            NaN       NaN   \n",
       "3              14831    SJC  ...           NaN            NaN       NaN   \n",
       "4              14307    PVD  ...           NaN            NaN       NaN   \n",
       "\n",
       "  security_delay late_aircraft_delay  first_dep_time  total_add_gtime  \\\n",
       "0            0.0                 0.0             NaN              NaN   \n",
       "1            NaN                 NaN             NaN              NaN   \n",
       "2            NaN                 NaN             NaN              NaN   \n",
       "3            NaN                 NaN             NaN              NaN   \n",
       "4            NaN                 NaN             NaN              NaN   \n",
       "\n",
       "   longest_add_gtime  no_name  hour  \n",
       "0                NaN      NaN    00  \n",
       "1                NaN      NaN    00  \n",
       "2                NaN      NaN    00  \n",
       "3                NaN      NaN    00  \n",
       "4                NaN      NaN    00  \n",
       "\n",
       "[5 rows x 43 columns]"
      ]
     },
     "execution_count": 82,
     "metadata": {},
     "output_type": "execute_result"
    }
   ],
   "source": [
    "# Create a new column called 'hour' and fill it with 0\n",
    "flights_df['hour'] = '00'\n",
    "\n",
    "flights_df['crs_dep_time'] = flights_df['crs_dep_time'].astype(str)\n",
    "\n",
    "# Find the rows where the length is less than or equal to 4\n",
    "mask = flights_df['crs_dep_time'].str.len() <= 4\n",
    "\n",
    "# Extract the first one or two digits and set them as the value in the 'hour' column\n",
    "df.loc[mask, 'hour'] = flights_df.loc[mask, 'crs_dep_time'].str[:-2]\n",
    "\n",
    "# Output the results\n",
    "flights_df.head()"
   ]
  },
  {
   "cell_type": "code",
   "execution_count": 83,
   "metadata": {},
   "outputs": [
    {
     "data": {
      "image/png": "[encoded data removed]",
      "text/plain": [
       "<Figure size 640x480 with 1 Axes>"
      ]
     },
     "metadata": {},
     "output_type": "display_data"
    }
   ],
   "source": [
    "\n",
    "# Group the data by hour and calculate the mean departure delay\n",
    "hourly_delay = df.groupby('hour')['dep_delay'].mean()\n",
    "\n",
    "# Create a bar plot of the hourly delays\n",
    "hourly_delay.plot(kind='bar')\n",
    "\n",
    "# Set the plot title and axis labels\n",
    "plt.title('Average Departure Delay by Hour')\n",
    "plt.xlabel('Hour')\n",
    "plt.ylabel('Departure Delay (minutes)')\n",
    "\n",
    "# Show the plot\n",
    "plt.show()"
   ]
  },
  {
   "cell_type": "code",
   "execution_count": 84,
   "metadata": {},
   "outputs": [
    {
     "data": {
      "image/png": "[encoded data removed]",
      "text/plain": [
       "<Figure size 640x480 with 1 Axes>"
      ]
     },
     "metadata": {},
     "output_type": "display_data"
    }
   ],
   "source": [
    "# Group the data by hour and calculate the mean departure delay\n",
    "hourly_delay = df.groupby('hour')['dep_delay'].mean()\n",
    "\n",
    "# Sort the hourly delay values in descending order and get the sorted index\n",
    "sorted_idx = hourly_delay.sort_values(ascending=False).index\n",
    "\n",
    "# Create a bar plot of the hourly delays, using the sorted index for the bar order\n",
    "ax = hourly_delay.loc[sorted_idx].plot(kind='bar')\n",
    "\n",
    "# Set the plot title and axis labels\n",
    "ax.set_title('Average Departure Delay by Hour')\n",
    "ax.set_xlabel('Hour')\n",
    "ax.set_ylabel('Departure Delay (minutes)')\n",
    "\n",
    "# Show the plot\n",
    "plt.show()"
   ]
  },
  {
   "cell_type": "code",
   "execution_count": null,
   "metadata": {},
   "outputs": [],
   "source": [
    "#The taxi time changes the delay. It seems the late night flights have longer delays as compared to rest flights."
   ]
  },
  {
   "cell_type": "markdown",
   "metadata": {},
   "source": [
    "#### **Task 5**: What is the average percentage of delays that is already created before departure? (aka are arrival delays caused by departure delays?) Are airlines able to lower the delay during the flights?"
   ]
  },
  {
   "cell_type": "code",
   "execution_count": 89,
   "metadata": {},
   "outputs": [
    {
     "name": "stdout",
     "output_type": "stream",
     "text": [
      "Percentage of delayed flights: 63.75%\n"
     ]
    }
   ],
   "source": [
    "# Filter the rows where arr_delay and dep_delay are both greater than 0\n",
    "delayed_flights = flights_df[(flights_df['arr_delay'] > 0) & (flights_df['dep_delay'] > 0)]\n",
    "\n",
    "# Calculate the percentage of delayed flights\n",
    "delay_percentage = len(delayed_flights) / len(df) * 100\n",
    "\n",
    "print(f\"Percentage of delayed flights: {delay_percentage:.2f}%\")"
   ]
  },
  {
   "cell_type": "code",
   "execution_count": 90,
   "metadata": {},
   "outputs": [
    {
     "data": {
      "image/png": "[encoded data removed]",
      "text/plain": [
       "<Figure size 640x480 with 1 Axes>"
      ]
     },
     "metadata": {},
     "output_type": "display_data"
    }
   ],
   "source": [
    "# Correlation between arrival delay and departure delay\n",
    "# Even if we ignore the outliers in the data, there is a very high correlation between arrival and departure delays. The airlines are not able to cover the arrival delays in departure time.\n",
    "plt.scatter(flights_df['arr_delay'], flights_df['dep_delay'])\n",
    "\n",
    "plt.title('Arrival Delay vs Departure Delay')\n",
    "plt.xlabel('Arrival Delay (minutes)')\n",
    "plt.ylabel('Departure Delay (minutes)')\n",
    "\n",
    "plt.show()"
   ]
  },
  {
   "cell_type": "markdown",
   "metadata": {},
   "source": [
    "#### **Task 6**: How many states cover 50% of US air traffic? "
   ]
  },
  {
   "cell_type": "code",
   "execution_count": null,
   "metadata": {},
   "outputs": [],
   "source": []
  },
  {
   "cell_type": "code",
   "execution_count": null,
   "metadata": {},
   "outputs": [],
   "source": []
  },
  {
   "cell_type": "markdown",
   "metadata": {},
   "source": [
    "#### **Task 7**: Test the hypothesis whether planes fly faster when there is the departure delay? "
   ]
  },
  {
   "cell_type": "code",
   "execution_count": null,
   "metadata": {},
   "outputs": [],
   "source": []
  },
  {
   "cell_type": "code",
   "execution_count": null,
   "metadata": {},
   "outputs": [],
   "source": []
  },
  {
   "cell_type": "markdown",
   "metadata": {},
   "source": [
    "#### **Task 8**: When (which hour) do most 'LONG', 'SHORT', 'MEDIUM' haul flights take off?"
   ]
  },
  {
   "cell_type": "code",
   "execution_count": null,
   "metadata": {},
   "outputs": [],
   "source": []
  },
  {
   "cell_type": "code",
   "execution_count": null,
   "metadata": {},
   "outputs": [],
   "source": []
  },
  {
   "cell_type": "markdown",
   "metadata": {},
   "source": [
    "#### **Task 9**: Find the top 10 the bussiest airports. Does the biggest number of flights mean that the biggest number of passengers went through the particular airport? How much traffic do these 10 airports cover?"
   ]
  },
  {
   "cell_type": "code",
   "execution_count": null,
   "metadata": {},
   "outputs": [],
   "source": []
  },
  {
   "cell_type": "code",
   "execution_count": null,
   "metadata": {},
   "outputs": [],
   "source": []
  },
  {
   "cell_type": "markdown",
   "metadata": {},
   "source": [
    "#### **Task 10**: Do bigger delays lead to bigger fuel comsumption per passenger? \n",
    "We need to do four things to answer this as accurate as possible:\n",
    "- Find out average monthly delay per air carrier (monthly delay is sum of all delays in 1 month)\n",
    "- Find out distance covered monthly by different air carriers\n",
    "- Find out number of passengers that were carried by different air carriers\n",
    "- Find out total fuel comsumption per air carrier.\n",
    "\n",
    "Use this information to get the average fuel comsumption per passenger per km. Is this higher for the airlines with bigger average delays?"
   ]
  },
  {
   "cell_type": "code",
   "execution_count": null,
   "metadata": {},
   "outputs": [],
   "source": []
  },
  {
   "cell_type": "code",
   "execution_count": null,
   "metadata": {},
   "outputs": [],
   "source": []
  }
 ],
 "metadata": {
  "kernelspec": {
   "display_name": "Python 3",
   "language": "python",
   "name": "python3"
  },
  "language_info": {
   "codemirror_mode": {
    "name": "ipython",
    "version": 3
   },
   "file_extension": ".py",
   "mimetype": "text/x-python",
   "name": "python",
   "nbconvert_exporter": "python",
   "pygments_lexer": "ipython3",
   "version": "3.10.10"
  },
  "toc": {
   "base_numbering": 1,
   "nav_menu": {},
   "number_sections": true,
   "sideBar": true,
   "skip_h1_title": false,
   "title_cell": "Table of Contents",
   "title_sidebar": "Contents",
   "toc_cell": false,
   "toc_position": {},
   "toc_section_display": true,
   "toc_window_display": false
  },
  "varInspector": {
   "cols": {
    "lenName": 16,
    "lenType": 16,
    "lenVar": 40
   },
   "kernels_config": {
    "python": {
     "delete_cmd_postfix": "",
     "delete_cmd_prefix": "del ",
     "library": "var_list.py",
     "varRefreshCmd": "print(var_dic_list())"
    },
    "r": {
     "delete_cmd_postfix": ") ",
     "delete_cmd_prefix": "rm(",
     "library": "var_list.r",
     "varRefreshCmd": "cat(var_dic_list()) "
    }
   },
   "types_to_exclude": [
    "module",
    "function",
    "builtin_function_or_method",
    "instance",
    "_Feature"
   ],
   "window_display": false
  },
  "vscode": {
   "interpreter": {
    "hash": "3dbcf5445ac47b9a2931907ac615ecf8f3b67cbd977950b6889812ffd692de77"
   }
  }
 },
 "nbformat": 4,
 "nbformat_minor": 4
}
